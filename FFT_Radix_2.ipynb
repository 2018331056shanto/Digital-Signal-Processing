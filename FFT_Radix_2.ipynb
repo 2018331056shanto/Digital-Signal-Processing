{
  "nbformat": 4,
  "nbformat_minor": 0,
  "metadata": {
    "colab": {
      "name": "FFT_Radix-2.ipynb",
      "provenance": []
    },
    "kernelspec": {
      "name": "python3",
      "display_name": "Python 3"
    },
    "language_info": {
      "name": "python"
    }
  },
  "cells": [
    {
      "cell_type": "markdown",
      "source": [
        "# Compute the FFT of a given signal with N = 8 using Radix-2 algorithm.\n",
        "\n",
        "## Reg:**2018331056**"
      ],
      "metadata": {
        "id": "th-NRK3yPFnW"
      }
    },
    {
      "cell_type": "code",
      "execution_count": 1,
      "metadata": {
        "id": "ZLak22_OK_zz"
      },
      "outputs": [],
      "source": [
        "import matplotlib.pyplot as plt\n",
        "import numpy as np"
      ]
    },
    {
      "cell_type": "code",
      "source": [
        "def Rad_fft(x):\n",
        "    N = len(x)\n",
        "    if N<=1:\n",
        "        return x\n",
        "    e = Rad_fft(x[0::2])\n",
        "    o = Rad_fft(x[1::2])\n",
        "    fft_x = np.zeros(N).astype(np.complex64)\n",
        "    for i in range(N//2):\n",
        "        fft_x[i] = e[i] + np.exp((-2j * np.pi * i) / N) * o[i]\n",
        "        fft_x[i + N // 2] = e[i] - np.exp((-2j * np.pi * i) / N) * o[i]\n",
        "\n",
        "    return fft_x\n",
        "\n",
        "x = [0,1,2,3,4,5,6,7]\n",
        "# print(\"N =\", len(x))\n",
        "fft = Rad_fft(x)\n",
        "\n",
        "magnitude=np.absolute(fft)\n",
        "phase=np.angle(fft)\n",
        "n=np.arange(-15,15)\n",
        "\n",
        "plt.figure(figsize=(30,10))\n",
        "plt.subplot(222)\n",
        "plt.title(\"DFT  X(k) Magnitude\")\n",
        "plt.xlabel(\"Sample\")\n",
        "plt.ylabel(\"Amplitude\")\n",
        "plt.xticks(n)\n",
        "plt.stem(magnitude)\n",
        "plt.show()\n",
        "\n",
        "\n",
        "plt.figure(figsize=(30,10))\n",
        "plt.subplot(223)\n",
        "plt.title(\"DFT  X(k) Phase\")\n",
        "plt.xlabel(\"Sample\")\n",
        "plt.ylabel(\"Ampliitude\")\n",
        "plt.xticks(n)\n",
        "plt.stem(phase)\n",
        "plt.show()\n",
        "\n",
        "print(fft)"
      ],
      "metadata": {
        "colab": {
          "base_uri": "https://localhost:8080/",
          "height": 722
        },
        "id": "_0Jtu9DRPTX-",
        "outputId": "2c0b2d2e-36f5-4f97-b0cd-d094be7dfe7f"
      },
      "execution_count": 3,
      "outputs": [
        {
          "output_type": "stream",
          "name": "stderr",
          "text": [
            "/usr/local/lib/python3.7/dist-packages/ipykernel_launcher.py:28: UserWarning: In Matplotlib 3.3 individual lines on a stem plot will be added as a LineCollection instead of individual lines. This significantly improves the performance of a stem plot. To remove this warning and switch to the new behaviour, set the \"use_line_collection\" keyword argument to True.\n"
          ]
        },
        {
          "output_type": "display_data",
          "data": {
            "text/plain": [
              "<Figure size 2160x720 with 1 Axes>"
            ],
            "image/png": "[encoded data removed]"
          },
          "metadata": {
            "needs_background": "light"
          }
        },
        {
          "output_type": "stream",
          "name": "stderr",
          "text": [
            "/usr/local/lib/python3.7/dist-packages/ipykernel_launcher.py:38: UserWarning: In Matplotlib 3.3 individual lines on a stem plot will be added as a LineCollection instead of individual lines. This significantly improves the performance of a stem plot. To remove this warning and switch to the new behaviour, set the \"use_line_collection\" keyword argument to True.\n"
          ]
        },
        {
          "output_type": "display_data",
          "data": {
            "text/plain": [
              "<Figure size 2160x720 with 1 Axes>"
            ],
            "image/png": "[encoded data removed]"
          },
          "metadata": {
            "needs_background": "light"
          }
        },
        {
          "output_type": "stream",
          "name": "stdout",
          "text": [
            "[28.+0.j        -4.+9.656855j  -4.+4.j        -4.+1.6568543j\n",
            " -4.+0.j        -4.-1.6568543j -4.-4.j        -4.-9.656855j ]\n"
          ]
        }
      ]
    }
  ]
}